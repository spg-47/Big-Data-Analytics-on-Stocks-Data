{
 "cells": [
  {
   "cell_type": "markdown",
   "id": "91d86e32",
   "metadata": {},
   "source": [
    "# Py-Spark"
   ]
  },
  {
   "cell_type": "code",
   "execution_count": 1,
   "id": "528479b2",
   "metadata": {},
   "outputs": [],
   "source": [
    "import findspark"
   ]
  },
  {
   "cell_type": "code",
   "execution_count": 4,
   "id": "168dbf14",
   "metadata": {},
   "outputs": [],
   "source": [
    "import pyspark\n",
    "from pyspark.sql import SparkSession\n",
    "from pyspark.sql.functions import *"
   ]
  },
  {
   "cell_type": "code",
   "execution_count": 5,
   "id": "3f9b86ce",
   "metadata": {},
   "outputs": [],
   "source": [
    "spark1 = SparkSession.builder.appName('Walmart_project').getOrCreate()"
   ]
  },
  {
   "cell_type": "code",
   "execution_count": 7,
   "id": "150e5d2a",
   "metadata": {},
   "outputs": [],
   "source": [
    "df=spark1.read.csv(\"walmart_stock.csv\",inferSchema=True,header=True)"
   ]
  },
  {
   "cell_type": "markdown",
   "id": "20989963",
   "metadata": {},
   "source": [
    "scenario 1:  print out first 5 columns ?"
   ]
  },
  {
   "cell_type": "code",
   "execution_count": 9,
   "id": "d99c52e0",
   "metadata": {
    "scrolled": false
   },
   "outputs": [
    {
     "name": "stdout",
     "output_type": "stream",
     "text": [
      "+-------------------+------------------+---------+---------+------------------+--------+------------------+\n",
      "|               Date|              Open|     High|      Low|             Close|  Volume|         Adj Close|\n",
      "+-------------------+------------------+---------+---------+------------------+--------+------------------+\n",
      "|2012-01-03 00:00:00|         59.970001|61.060001|59.869999|         60.330002|12668800|52.619234999999996|\n",
      "|2012-01-04 00:00:00|60.209998999999996|60.349998|59.470001|59.709998999999996| 9593300|         52.078475|\n",
      "|2012-01-05 00:00:00|         59.349998|59.619999|58.369999|         59.419998|12768200|         51.825539|\n",
      "|2012-01-06 00:00:00|         59.419998|59.450001|58.869999|              59.0| 8069400|          51.45922|\n",
      "|2012-01-09 00:00:00|         59.029999|59.549999|58.919998|             59.18| 6679300|51.616215000000004|\n",
      "+-------------------+------------------+---------+---------+------------------+--------+------------------+\n",
      "only showing top 5 rows\n",
      "\n"
     ]
    }
   ],
   "source": [
    "df.show(5)"
   ]
  },
  {
   "cell_type": "markdown",
   "id": "ada95732",
   "metadata": {},
   "source": [
    "scenario2: There are too many decimal places for mean and stddev in the describe() dataframe. Format the numbers to just show up to two decimal places.Pay careful attention to the datatypes that .describe() returns, we didn't cover how to do this exact formatting,but we covered something very similar. "
   ]
  },
  {
   "cell_type": "code",
   "execution_count": 14,
   "id": "ece9ca32",
   "metadata": {},
   "outputs": [
    {
     "data": {
      "text/plain": [
       "[('Date', 'timestamp'),\n",
       " ('Open', 'double'),\n",
       " ('High', 'double'),\n",
       " ('Low', 'double'),\n",
       " ('Close', 'double'),\n",
       " ('Volume', 'int'),\n",
       " ('Adj Close', 'double')]"
      ]
     },
     "execution_count": 14,
     "metadata": {},
     "output_type": "execute_result"
    }
   ],
   "source": [
    "df.dtypes"
   ]
  },
  {
   "cell_type": "code",
   "execution_count": 25,
   "id": "9f808eb8",
   "metadata": {},
   "outputs": [
    {
     "data": {
      "text/plain": [
       "['Open', 'High', 'Low', 'Close', 'Volume', 'Adj Close']"
      ]
     },
     "execution_count": 25,
     "metadata": {},
     "output_type": "execute_result"
    }
   ],
   "source": [
    "df1.columns[1:]"
   ]
  },
  {
   "cell_type": "code",
   "execution_count": 170,
   "id": "c5dc2597",
   "metadata": {},
   "outputs": [
    {
     "name": "stdout",
     "output_type": "stream",
     "text": [
      "+-------+------------------+-----------------+-----------------+-----------------+-----------------+-----------------+\n",
      "|summary|              Open|             High|              Low|            Close|           Volume|        Adj Close|\n",
      "+-------+------------------+-----------------+-----------------+-----------------+-----------------+-----------------+\n",
      "|  count|              1258|             1258|             1258|             1258|             1258|             1258|\n",
      "|   mean| 72.35785375357709|72.83938807631165| 71.9186009594594|72.38844998012726|8222093.481717011|67.23883848728146|\n",
      "| stddev|  6.76809024470826|6.768186808159218|6.744075756255496|6.756859163732991|  4519780.8431556|6.722609449996857|\n",
      "|    min|56.389998999999996|        57.060001|        56.299999|        56.419998|          2094900|        50.363689|\n",
      "|    max|         90.800003|        90.970001|            89.25|        90.470001|         80898100|84.91421600000001|\n",
      "+-------+------------------+-----------------+-----------------+-----------------+-----------------+-----------------+\n",
      "\n",
      "+-------+------+------+------+------+----------+---------+\n",
      "|summary|Open  |High  |Low   |Close |Volume    |Adj Close|\n",
      "+-------+------+------+------+------+----------+---------+\n",
      "|count  |1258.0|1258.0|1258.0|1258.0|1258.0    |1258.0   |\n",
      "|mean   |72.36 |72.84 |71.92 |72.39 |8222093.48|67.24    |\n",
      "|stddev |6.77  |6.77  |6.74  |6.76  |4519780.84|6.72     |\n",
      "|min    |56.39 |57.06 |56.3  |56.42 |2094900.0 |50.36    |\n",
      "|max    |90.8  |90.97 |89.25 |90.47 |8.08981E7 |84.91    |\n",
      "+-------+------+------+------+------+----------+---------+\n",
      "\n"
     ]
    }
   ],
   "source": [
    "df1=df.describe()\n",
    "df1.show()\n",
    "for i in df1.columns[1:]:\n",
    "    df1=df1.withColumn(i,round(col(i),2).alias(i))\n",
    "df1.show(truncate=False)"
   ]
  },
  {
   "cell_type": "markdown",
   "id": "e117e40a",
   "metadata": {},
   "source": [
    "scenario3: Create a new dataframe with a column called HV Ratio that is the ratio of the High Price versus volume of stock traded for a day.?"
   ]
  },
  {
   "cell_type": "code",
   "execution_count": 173,
   "id": "728ac6f5",
   "metadata": {
    "scrolled": true
   },
   "outputs": [
    {
     "name": "stdout",
     "output_type": "stream",
     "text": [
      "+-------------------+-----+-----+-----+-----+--------+---------+---------+\n",
      "|Date               |Open |High |Low  |Close|Volume  |Adj Close|HV_Ratio |\n",
      "+-------------------+-----+-----+-----+-----+--------+---------+---------+\n",
      "|2012-01-03 00:00:00|59.97|61.06|59.87|60.33|12668800|52.62    |207481.16|\n",
      "|2012-01-04 00:00:00|60.21|60.35|59.47|59.71|9593300 |52.08    |158961.07|\n",
      "|2012-01-05 00:00:00|59.35|59.62|58.37|59.42|12768200|51.83    |214159.68|\n",
      "|2012-01-06 00:00:00|59.42|59.45|58.87|59.0 |8069400 |51.46    |135734.23|\n",
      "|2012-01-09 00:00:00|59.03|59.55|58.92|59.18|6679300 |51.62    |112162.89|\n",
      "|2012-01-10 00:00:00|59.43|59.71|58.98|59.04|6907300 |51.49    |115680.79|\n",
      "|2012-01-11 00:00:00|59.06|59.53|59.04|59.4 |6365600 |51.81    |106930.96|\n",
      "|2012-01-12 00:00:00|59.79|60.0 |59.4 |59.5 |7236400 |51.9     |120606.67|\n",
      "|2012-01-13 00:00:00|59.18|59.61|59.01|59.54|7729300 |51.93    |129664.48|\n",
      "|2012-01-17 00:00:00|59.87|60.11|59.52|59.85|8500000 |52.2     |141407.42|\n",
      "|2012-01-18 00:00:00|59.79|60.03|59.65|60.01|5911400 |52.34    |98474.1  |\n",
      "|2012-01-19 00:00:00|59.93|60.73|59.75|60.61|9234600 |52.86    |152059.94|\n",
      "|2012-01-20 00:00:00|60.75|61.25|60.67|61.01|10378800|53.21    |169449.8 |\n",
      "|2012-01-23 00:00:00|60.81|60.98|60.51|60.91|7134100 |53.13    |116990.82|\n",
      "|2012-01-24 00:00:00|60.75|62.0 |60.75|61.39|7362800 |53.54    |118754.84|\n",
      "+-------------------+-----+-----+-----+-----+--------+---------+---------+\n",
      "only showing top 15 rows\n",
      "\n"
     ]
    }
   ],
   "source": [
    "df2=df.withColumn('HV_Ratio',round(col('Volume')/col('High'),2))\n",
    "for i in df2.columns[1:]:\n",
    "    df2=df2.withColumn(i,round(col(i),2).alias(i))\n",
    "df2.show(15,truncate=False)"
   ]
  },
  {
   "cell_type": "markdown",
   "id": "09769159",
   "metadata": {},
   "source": [
    "scenario4: What day had the Peak High in Price?"
   ]
  },
  {
   "cell_type": "code",
   "execution_count": 174,
   "id": "73b53c69",
   "metadata": {},
   "outputs": [
    {
     "name": "stdout",
     "output_type": "stream",
     "text": [
      "2015-01-13 00:00:00\n"
     ]
    }
   ],
   "source": [
    "peak_high_day = df.select(\"Date\").orderBy(col(\"High\").desc()).first()[0]\n",
    "print(peak_high_day)"
   ]
  },
  {
   "cell_type": "markdown",
   "id": "b302aef7",
   "metadata": {},
   "source": [
    "# Spark -SQL"
   ]
  },
  {
   "cell_type": "code",
   "execution_count": 107,
   "id": "1e62fd1c",
   "metadata": {},
   "outputs": [],
   "source": [
    "df.createOrReplaceTempView(\"walmart\")"
   ]
  },
  {
   "cell_type": "markdown",
   "id": "efdf7d63",
   "metadata": {},
   "source": [
    "scenario5: What is the mean of the Close column?"
   ]
  },
  {
   "cell_type": "code",
   "execution_count": 109,
   "id": "573ddafc",
   "metadata": {
    "scrolled": true
   },
   "outputs": [
    {
     "name": "stdout",
     "output_type": "stream",
     "text": [
      "+-----------------+\n",
      "|       Close_Mean|\n",
      "+-----------------+\n",
      "|72.38844998012726|\n",
      "+-----------------+\n",
      "\n"
     ]
    }
   ],
   "source": [
    "spark1.sql(\"Select mean(Close) as Close_Mean from walmart\").show()"
   ]
  },
  {
   "cell_type": "markdown",
   "id": "64fffb58",
   "metadata": {},
   "source": [
    "scenario6:\n",
    "\n",
    "What is the max and min of the Volume column?"
   ]
  },
  {
   "cell_type": "code",
   "execution_count": 112,
   "id": "cdce7138",
   "metadata": {},
   "outputs": [
    {
     "name": "stdout",
     "output_type": "stream",
     "text": [
      "+----------+----------+\n",
      "|max_volume|min_volume|\n",
      "+----------+----------+\n",
      "|  80898100|   2094900|\n",
      "+----------+----------+\n",
      "\n"
     ]
    }
   ],
   "source": [
    "spark1.sql(\"Select max(volume) as max_volume,min(volume) as min_volume from walmart\").show()"
   ]
  },
  {
   "cell_type": "markdown",
   "id": "94d134ea",
   "metadata": {},
   "source": [
    "scenario7:\n",
    "\n",
    "How many days was the Close lower than 60 dollars?"
   ]
  },
  {
   "cell_type": "code",
   "execution_count": 114,
   "id": "010b4908",
   "metadata": {},
   "outputs": [
    {
     "name": "stdout",
     "output_type": "stream",
     "text": [
      "+----------+\n",
      "|total_days|\n",
      "+----------+\n",
      "|        81|\n",
      "+----------+\n",
      "\n"
     ]
    }
   ],
   "source": [
    "spark1.sql(\"select count(date) as total_days from walmart where close<60\").show()"
   ]
  },
  {
   "cell_type": "markdown",
   "id": "f3c3ca66",
   "metadata": {},
   "source": [
    "Scenario8:\n",
    "\n",
    "What percentage of the time was the High greater than 80 dollars ?\n",
    "\n",
    "In other words, \n",
    "(Number of Days High>80)/(Total Days in the dataset)"
   ]
  },
  {
   "cell_type": "code",
   "execution_count": 176,
   "id": "f1f6027e",
   "metadata": {},
   "outputs": [
    {
     "name": "stdout",
     "output_type": "stream",
     "text": [
      "+----------+\n",
      "|percentage|\n",
      "+----------+\n",
      "|      9.14|\n",
      "+----------+\n",
      "\n"
     ]
    }
   ],
   "source": [
    "spark1.sql(\"select round(sum(x)/count(x)*100,2) as percentage \\\n",
    "           from (select case when High>80 then 1 else 0 end as x from walmart) as s\").show()"
   ]
  },
  {
   "cell_type": "markdown",
   "id": "6e8880c2",
   "metadata": {},
   "source": [
    "Scenario9:\n",
    "\n",
    "What is the max High per year?\n"
   ]
  },
  {
   "cell_type": "code",
   "execution_count": 133,
   "id": "87080716",
   "metadata": {},
   "outputs": [
    {
     "name": "stdout",
     "output_type": "stream",
     "text": [
      "+----+---------+\n",
      "|year| max_high|\n",
      "+----+---------+\n",
      "|2012|77.599998|\n",
      "|2013|81.370003|\n",
      "|2014|88.089996|\n",
      "|2015|90.970001|\n",
      "|2016|75.190002|\n",
      "+----+---------+\n",
      "\n"
     ]
    }
   ],
   "source": [
    "spark1.sql(\"select year(date) as year , max(high) as max_high from walmart group by year(date) order by 1\").show()"
   ]
  }
 ],
 "metadata": {
  "kernelspec": {
   "display_name": "Python 3 (ipykernel)",
   "language": "python",
   "name": "python3"
  },
  "language_info": {
   "codemirror_mode": {
    "name": "ipython",
    "version": 3
   },
   "file_extension": ".py",
   "mimetype": "text/x-python",
   "name": "python",
   "nbconvert_exporter": "python",
   "pygments_lexer": "ipython3",
   "version": "3.10.9"
  }
 },
 "nbformat": 4,
 "nbformat_minor": 5
}
